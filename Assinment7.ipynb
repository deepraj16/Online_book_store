{
 "cells": [
  {
   "cell_type": "code",
   "execution_count": 2,
   "id": "15edbcdf-5ac1-46d7-b179-9f2be6b3ef56",
   "metadata": {},
   "outputs": [],
   "source": [
    "# question Nor 2\n",
    "#buy\", \"free\", \"offer\", or \"click\"\n",
    "text1= 'Buy 1 Get 1 Free'\n",
    "from nltk import ngrams\n"
   ]
  },
  {
   "cell_type": "code",
   "execution_count": 3,
   "id": "97e687b8-8898-4743-a35d-726148f17991",
   "metadata": {},
   "outputs": [],
   "source": [
    "l=[\"buy\", \"free\", \"offer\", \"click\",\"Buy\", \"Free\", \"Offer\", \"Click\"]\n",
    "text1= 'Buy 1 Get 1 Free'"
   ]
  },
  {
   "cell_type": "code",
   "execution_count": 6,
   "id": "6650ac37-1f3f-4ad3-b54f-bdd00af63c71",
   "metadata": {},
   "outputs": [],
   "source": [
    "def fun(text):\n",
    "    k=list(text.split(' '))\n",
    "    f=0\n",
    "    for i in k:\n",
    "        for j in l:\n",
    "            if(i==j):\n",
    "                 f=1\n",
    "                 break\n",
    "        if(f==1):\n",
    "            break\n",
    "    if(f==1):\n",
    "        print('scam')\n",
    "    else:\n",
    "        print(\"imp\")"
   ]
  },
  {
   "cell_type": "code",
   "execution_count": 7,
   "id": "dfa5d52d-2c8f-41a3-b6d2-c4e78cd3546f",
   "metadata": {},
   "outputs": [
    {
     "name": "stdout",
     "output_type": "stream",
     "text": [
      "scam\n"
     ]
    }
   ],
   "source": [
    "fun(text1)"
   ]
  },
  {
   "cell_type": "code",
   "execution_count": 8,
   "id": "f4b4e6b7-81ea-44f8-a5fa-07bf8cb43487",
   "metadata": {},
   "outputs": [],
   "source": [
    "text1= 'Buy 1 Get 1 Free'\n",
    "text2=\"i am deepraj\""
   ]
  },
  {
   "cell_type": "code",
   "execution_count": 9,
   "id": "ee60676c-b9d2-46c1-9b8f-7405abea4184",
   "metadata": {},
   "outputs": [
    {
     "name": "stdout",
     "output_type": "stream",
     "text": [
      "imp\n"
     ]
    }
   ],
   "source": [
    "fun(text2)"
   ]
  },
  {
   "cell_type": "code",
   "execution_count": 10,
   "id": "287f0bfe-f82b-4647-98b7-ba06d517b0ac",
   "metadata": {},
   "outputs": [],
   "source": [
    "#ques3\n",
    "import spacy"
   ]
  },
  {
   "cell_type": "code",
   "execution_count": 11,
   "id": "26165d1d-b0e4-4cb2-981b-1c2b0c82d10e",
   "metadata": {},
   "outputs": [],
   "source": [
    "list1 = ['painful','standing','abstraction','magically']"
   ]
  },
  {
   "cell_type": "code",
   "execution_count": 12,
   "id": "07abfd61-a062-45ee-a4c6-6ac4c6501781",
   "metadata": {},
   "outputs": [],
   "source": [
    "nlp=spacy.load('en_core_web_sm')\n"
   ]
  },
  {
   "cell_type": "code",
   "execution_count": 13,
   "id": "5be4f84f-11ca-43f7-9e63-fa92420fd3a7",
   "metadata": {},
   "outputs": [],
   "source": [
    "def fun2(list1):\n",
    "    s=''\n",
    "    for i in list1:\n",
    "        s=s+' '+str(i)\n",
    "    doc=nlp(s)\n",
    "    for t in doc:\n",
    "        print(t.lemma_)\n",
    "    "
   ]
  },
  {
   "cell_type": "code",
   "execution_count": 14,
   "id": "c0e56ac8-07b5-455a-ad26-7b34f07c39c9",
   "metadata": {},
   "outputs": [
    {
     "name": "stdout",
     "output_type": "stream",
     "text": [
      " \n",
      "painful\n",
      "stand\n",
      "abstraction\n",
      "magically\n"
     ]
    }
   ],
   "source": [
    "fun2(list1)"
   ]
  },
  {
   "cell_type": "code",
   "execution_count": 15,
   "id": "7d73d060-293d-44e7-a99c-9f94c3bef33f",
   "metadata": {},
   "outputs": [],
   "source": [
    "# question 5:\n",
    "text= nlp(u\" Dancing is an art. Students should be taught dance as a subject in schools . I danced in many of my school function. Some    people are always hesitating to dance.\")"
   ]
  },
  {
   "cell_type": "code",
   "execution_count": 58,
   "id": "15c208b8-22a4-48f8-ab64-46cc55467db4",
   "metadata": {},
   "outputs": [
    {
     "name": "stdout",
     "output_type": "stream",
     "text": [
      "dancing\n",
      "be\n",
      "an\n",
      "art\n",
      ".\n",
      "student\n",
      "should\n",
      "be\n",
      "teach\n",
      "dance\n",
      "as\n",
      "a\n",
      "subject\n",
      "in\n",
      "school\n",
      ".\n",
      "I\n",
      "dance\n",
      "in\n",
      "many\n",
      "of\n",
      "my\n",
      "school\n",
      "function\n",
      ".\n",
      "some\n",
      "   \n",
      "people\n",
      "be\n",
      "always\n",
      "hesitate\n",
      "to\n",
      "dance\n",
      ".\n"
     ]
    }
   ],
   "source": [
    "for t in text:\n",
    "        print(t.lemma_)"
   ]
  },
  {
   "cell_type": "code",
   "execution_count": 16,
   "id": "b57b266a-c733-48e6-969a-162049db045e",
   "metadata": {},
   "outputs": [],
   "source": [
    "#question 4\n",
    "Stopwords = ['is','a','the', 'an','she']\n",
    "text=\"an apple is on the table.\""
   ]
  },
  {
   "cell_type": "code",
   "execution_count": 17,
   "id": "bbf6a1ea-6b62-4c77-b1c4-a4849a0dbfbc",
   "metadata": {},
   "outputs": [],
   "source": [
    "def fun(text):\n",
    "    k=text.split(' ')\n",
    "    f=0\n",
    "    u=[]\n",
    "    for i in k:\n",
    "        f=0\n",
    "        for j in Stopwords:  \n",
    "            if(i==j):\n",
    "                 f=1\n",
    "                 break\n",
    "        if(f==0):\n",
    "            print(i)\n",
    "            u.append(i)\n",
    "    print(u)"
   ]
  },
  {
   "cell_type": "code",
   "execution_count": null,
   "id": "f6975dc6-a1da-4ace-9842-bb19a7d3cb11",
   "metadata": {},
   "outputs": [],
   "source": [
    "#question1"
   ]
  },
  {
   "cell_type": "code",
   "execution_count": 27,
   "id": "63558c36-fe89-4790-ac85-0c533bd40a74",
   "metadata": {},
   "outputs": [
    {
     "name": "stdout",
     "output_type": "stream",
     "text": [
      "Ramesh\n",
      "Mumbai\n"
     ]
    }
   ],
   "source": [
    "doc = nlp(\"Ramesh lives in Mumbai\")\n",
    "for token in doc:\n",
    "    if(token.pos_=='NOUN' or token.pos_=='PROPN' or token.pos_=='ADJ'): \n",
    "        print(token.text)"
   ]
  },
  {
   "cell_type": "code",
   "execution_count": null,
   "id": "07dbb113-4739-45f3-a795-b4b44037e12a",
   "metadata": {},
   "outputs": [],
   "source": []
  },
  {
   "cell_type": "code",
   "execution_count": null,
   "id": "c88ccab6-8045-446f-b21b-41fb7f957ca2",
   "metadata": {},
   "outputs": [],
   "source": []
  }
 ],
 "metadata": {
  "kernelspec": {
   "display_name": "Python 3 (ipykernel)",
   "language": "python",
   "name": "python3"
  },
  "language_info": {
   "codemirror_mode": {
    "name": "ipython",
    "version": 3
   },
   "file_extension": ".py",
   "mimetype": "text/x-python",
   "name": "python",
   "nbconvert_exporter": "python",
   "pygments_lexer": "ipython3",
   "version": "3.11.7"
  }
 },
 "nbformat": 4,
 "nbformat_minor": 5
}
